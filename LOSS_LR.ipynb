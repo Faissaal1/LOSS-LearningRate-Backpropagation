{
  "nbformat": 4,
  "nbformat_minor": 0,
  "metadata": {
    "colab": {
      "provenance": []
    },
    "kernelspec": {
      "name": "python3",
      "display_name": "Python 3"
    },
    "language_info": {
      "name": "python"
    }
  },
  "cells": [
    {
      "cell_type": "code",
      "execution_count": null,
      "metadata": {
        "id": "ScWo1EM9Io4h"
      },
      "outputs": [],
      "source": [
        "import tensorflow as tf\n",
        "from tensorflow import keras\n",
        "import os\n",
        "import pandas as pd\n",
        "import numpy as np\n",
        "import matplotlib.pyplot as plt"
      ]
    },
    {
      "cell_type": "code",
      "source": [
        "os.environ['TF_CPP_MIN_LOG_LEVEL']='2'\n",
        "\n",
        "\n",
        "fashion_mnist_data = keras.datasets.fashion_mnist\n",
        "(all_x_train, all_y_train), (x_test, y_test) = fashion_mnist_data.load_data()\n",
        "\n",
        "all_x_train = all_x_train.astype('float32')\n",
        "x_test = x_test.astype('float32')\n",
        "\n"
      ],
      "metadata": {
        "id": "xJZScThDJAcx"
      },
      "execution_count": null,
      "outputs": []
    },
    {
      "cell_type": "code",
      "source": [
        "\n",
        "x_validation, x_train = all_x_train[:5000] / 255.0, all_x_train[5000:] / 255.0\n",
        "y_validation, y_train = all_y_train[:5000], all_y_train[5000:]\n",
        "\n",
        "\n",
        "\n",
        "fashion_mnist_class_names = [\"T-shirt/top\", \"Trouser\", \"Pullover\", \"Dress\", \"Coat\", \"Sandal\", \"Shirt\", \"Sneaker\", \"Bag\", \"Ankle boot\"]\n",
        "\n",
        "\n"
      ],
      "metadata": {
        "id": "X0d519TwI586"
      },
      "execution_count": null,
      "outputs": []
    },
    {
      "cell_type": "code",
      "source": [
        "model = keras.models.Sequential()\n",
        "\n",
        "model.add(keras.layers.Flatten(input_shape=[28,28]))\n",
        "model.add(keras.layers.Dense(300, activation=\"relu\"))\n",
        "\n",
        "my_weights_initializer = tf.keras.initializers.RandomNormal(mean=100., stddev=1.)\n",
        "my_bias_initializer= tf.keras.initializers.Ones()\n",
        "model.add(keras.layers.Dense(150, activation=\"relu\" ,\\\n",
        "                                  kernel_initializer = my_weights_initializer, \\\n",
        "                                  bias_initializer = my_bias_initializer))\n",
        "# model.add(keras.layers.Dense(150, activation=\"relu\"))\n",
        "\n",
        "model.add(keras.layers.Dense(10,activation=\"softmax\"))"
      ],
      "metadata": {
        "id": "9al48MNKJEAn"
      },
      "execution_count": null,
      "outputs": []
    },
    {
      "cell_type": "code",
      "source": [
        "model.summary()"
      ],
      "metadata": {
        "colab": {
          "base_uri": "https://localhost:8080/"
        },
        "id": "jFesqbffKcBA",
        "outputId": "b0e66ed6-677e-4f1c-b9f5-b655732f2be5"
      },
      "execution_count": null,
      "outputs": [
        {
          "output_type": "stream",
          "name": "stdout",
          "text": [
            "Model: \"sequential_2\"\n",
            "_________________________________________________________________\n",
            " Layer (type)                Output Shape              Param #   \n",
            "=================================================================\n",
            " flatten_2 (Flatten)         (None, 784)               0         \n",
            "                                                                 \n",
            " dense_6 (Dense)             (None, 300)               235500    \n",
            "                                                                 \n",
            " dense_7 (Dense)             (None, 150)               45150     \n",
            "                                                                 \n",
            " dense_8 (Dense)             (None, 10)                1510      \n",
            "                                                                 \n",
            "=================================================================\n",
            "Total params: 282160 (1.08 MB)\n",
            "Trainable params: 282160 (1.08 MB)\n",
            "Non-trainable params: 0 (0.00 Byte)\n",
            "_________________________________________________________________\n"
          ]
        }
      ]
    },
    {
      "cell_type": "code",
      "source": [
        "print(model.layers)\n",
        "\n",
        "\n",
        "\n",
        "\n",
        "\n"
      ],
      "metadata": {
        "colab": {
          "base_uri": "https://localhost:8080/"
        },
        "id": "y-gGJRlPLFji",
        "outputId": "5b637b70-ddaf-4c34-fb57-a73d895d5f6e"
      },
      "execution_count": null,
      "outputs": [
        {
          "output_type": "stream",
          "name": "stdout",
          "text": [
            "[<keras.src.layers.reshaping.flatten.Flatten object at 0x7eeed45abe80>, <keras.src.layers.core.dense.Dense object at 0x7eeed45f8340>, <keras.src.layers.core.dense.Dense object at 0x7eeed45f9f60>, <keras.src.layers.core.dense.Dense object at 0x7eeed45aa6e0>]\n"
          ]
        }
      ]
    },
    {
      "cell_type": "code",
      "source": [
        "print(model.layers[2].name)\n"
      ],
      "metadata": {
        "colab": {
          "base_uri": "https://localhost:8080/"
        },
        "id": "5aahKzHeLMs4",
        "outputId": "ae3b3135-f7b8-44d3-a949-5be890fd104a"
      },
      "execution_count": null,
      "outputs": [
        {
          "output_type": "stream",
          "name": "stdout",
          "text": [
            "dense_7\n"
          ]
        }
      ]
    },
    {
      "cell_type": "code",
      "source": [
        "import torch"
      ],
      "metadata": {
        "id": "nO04ORASJGtv"
      },
      "execution_count": null,
      "outputs": []
    },
    {
      "cell_type": "code",
      "source": [
        "tens =  torch.arange(1,7)\n",
        "print(tens)"
      ],
      "metadata": {
        "colab": {
          "base_uri": "https://localhost:8080/"
        },
        "id": "CYvQi8IVJK_x",
        "outputId": "1638311c-0584-46f7-ecb8-0d0ac4b6fa41"
      },
      "execution_count": null,
      "outputs": [
        {
          "output_type": "stream",
          "name": "stdout",
          "text": [
            "tensor([1, 2, 3, 4, 5, 6])\n"
          ]
        }
      ]
    },
    {
      "cell_type": "code",
      "source": [
        "tens_np = np.array(tens)\n",
        "print(tens_np)"
      ],
      "metadata": {
        "colab": {
          "base_uri": "https://localhost:8080/"
        },
        "id": "sQtV4GurJXgW",
        "outputId": "88e9f583-a332-4609-815b-bb5c5684a090"
      },
      "execution_count": null,
      "outputs": [
        {
          "output_type": "stream",
          "name": "stdout",
          "text": [
            "[1 2 3 4 5 6]\n"
          ]
        }
      ]
    },
    {
      "cell_type": "code",
      "source": [
        "tens.view(2,3)"
      ],
      "metadata": {
        "colab": {
          "base_uri": "https://localhost:8080/"
        },
        "id": "OlFgDfneJkuP",
        "outputId": "fe988704-4089-47ee-d708-4a946e490052"
      },
      "execution_count": null,
      "outputs": [
        {
          "output_type": "execute_result",
          "data": {
            "text/plain": [
              "tensor([[1, 2, 3],\n",
              "        [4, 5, 6]])"
            ]
          },
          "metadata": {},
          "execution_count": 25
        }
      ]
    },
    {
      "cell_type": "code",
      "source": [
        "transformed = tens.view(2,3)\n",
        "transformed.sum(dim=0)"
      ],
      "metadata": {
        "colab": {
          "base_uri": "https://localhost:8080/"
        },
        "id": "aiybrJG6J1Qv",
        "outputId": "dd143490-c7c9-467c-ea4d-8dff2cbe29d4"
      },
      "execution_count": null,
      "outputs": [
        {
          "output_type": "execute_result",
          "data": {
            "text/plain": [
              "tensor([5, 7, 9])"
            ]
          },
          "metadata": {},
          "execution_count": 26
        }
      ]
    },
    {
      "cell_type": "code",
      "source": [
        "transformed.sum(dim=1)"
      ],
      "metadata": {
        "colab": {
          "base_uri": "https://localhost:8080/"
        },
        "id": "L1LttppdKBjw",
        "outputId": "78decf81-b7fc-496b-ab08-eead26b97c6e"
      },
      "execution_count": null,
      "outputs": [
        {
          "output_type": "execute_result",
          "data": {
            "text/plain": [
              "tensor([ 6, 15])"
            ]
          },
          "metadata": {},
          "execution_count": 27
        }
      ]
    },
    {
      "cell_type": "code",
      "source": [
        "transformed[1,1] = 10\n",
        "transformed"
      ],
      "metadata": {
        "colab": {
          "base_uri": "https://localhost:8080/"
        },
        "id": "E_Tq9SndKO_O",
        "outputId": "179c93f2-8cb5-4417-c810-3af02db14df6"
      },
      "execution_count": null,
      "outputs": [
        {
          "output_type": "execute_result",
          "data": {
            "text/plain": [
              "tensor([[ 1,  2,  3],\n",
              "        [ 4, 10,  6]])"
            ]
          },
          "metadata": {},
          "execution_count": 28
        }
      ]
    },
    {
      "cell_type": "code",
      "source": [
        "x = torch.randn(2,2, requires_grad=True)\n",
        "x"
      ],
      "metadata": {
        "colab": {
          "base_uri": "https://localhost:8080/"
        },
        "id": "_1GhKD4hKZJm",
        "outputId": "2f4fc174-6792-4051-f0d2-53ad328aa4e3"
      },
      "execution_count": null,
      "outputs": [
        {
          "output_type": "execute_result",
          "data": {
            "text/plain": [
              "tensor([[-0.1539,  1.0827],\n",
              "        [-0.3543,  1.4096]], requires_grad=True)"
            ]
          },
          "metadata": {},
          "execution_count": 29
        }
      ]
    },
    {
      "cell_type": "code",
      "source": [
        "print(x, x.dtype, x.shape)"
      ],
      "metadata": {
        "colab": {
          "base_uri": "https://localhost:8080/"
        },
        "id": "EQ-ochNOJpaG",
        "outputId": "3fbbe97b-eba6-48d8-f51f-ab3e30be9b80"
      },
      "execution_count": null,
      "outputs": [
        {
          "output_type": "stream",
          "name": "stdout",
          "text": [
            "tensor([[-0.1539,  1.0827],\n",
            "        [-0.3543,  1.4096]], requires_grad=True) torch.float32 torch.Size([2, 2])\n"
          ]
        }
      ]
    },
    {
      "cell_type": "code",
      "source": [
        "out = x.pow(2).sum()"
      ],
      "metadata": {
        "id": "I81BudeJLyO-"
      },
      "execution_count": null,
      "outputs": []
    },
    {
      "cell_type": "code",
      "source": [
        "out.backward()"
      ],
      "metadata": {
        "id": "ZLrDIk1SMI6v"
      },
      "execution_count": null,
      "outputs": []
    },
    {
      "cell_type": "code",
      "source": [
        "print(x.grad)\n",
        "print(2*x)"
      ],
      "metadata": {
        "colab": {
          "base_uri": "https://localhost:8080/"
        },
        "id": "tN6zeShdR1Eg",
        "outputId": "61984f51-59df-460c-ba03-7e7dc38c648e"
      },
      "execution_count": null,
      "outputs": [
        {
          "output_type": "stream",
          "name": "stdout",
          "text": [
            "tensor([[-0.3079,  2.1655],\n",
            "        [-0.7086,  2.8192]])\n",
            "tensor([[-0.3079,  2.1655],\n",
            "        [-0.7086,  2.8192]], grad_fn=<MulBackward0>)\n"
          ]
        }
      ]
    },
    {
      "cell_type": "code",
      "source": [
        "ST1 = np.array([[17.0,12,13,15,15,20,20], [10,12,14,15,20,15,20]])\n",
        "ST2 = np.array([4,7.5,10,11,5,5,6,8,5,0,5,0,10,6]).reshape(2,7)"
      ],
      "metadata": {
        "id": "kF98Co0XSOte"
      },
      "execution_count": null,
      "outputs": []
    },
    {
      "cell_type": "code",
      "source": [
        "print(ST2)"
      ],
      "metadata": {
        "colab": {
          "base_uri": "https://localhost:8080/"
        },
        "id": "nW9USjNOS5Y3",
        "outputId": "e234347a-be2a-41b5-afe4-0df92b945e9b"
      },
      "execution_count": null,
      "outputs": [
        {
          "output_type": "stream",
          "name": "stdout",
          "text": [
            "[[ 4.   7.5 10.  11.   5.   5.   6. ]\n",
            " [ 8.   5.   0.   5.   0.  10.   6. ]]\n"
          ]
        }
      ]
    },
    {
      "cell_type": "code",
      "source": [
        "Xstudents= np.concatenate((ST1,ST2), axis=1)"
      ],
      "metadata": {
        "id": "zLjTLIpHTdhI"
      },
      "execution_count": null,
      "outputs": []
    },
    {
      "cell_type": "code",
      "source": [
        "Ystudents = np.ones(14)\n",
        "Ystudents[7:] = 0"
      ],
      "metadata": {
        "id": "uTSeYGnRbM-o"
      },
      "execution_count": null,
      "outputs": []
    },
    {
      "cell_type": "code",
      "source": [
        "print(Ystudents)"
      ],
      "metadata": {
        "colab": {
          "base_uri": "https://localhost:8080/"
        },
        "id": "CAtdnsXybW3-",
        "outputId": "24f51061-af10-4472-8a8a-8434b6008cb6"
      },
      "execution_count": null,
      "outputs": [
        {
          "output_type": "stream",
          "name": "stdout",
          "text": [
            "[1. 1. 1. 1. 1. 1. 1. 0. 0. 0. 0. 0. 0. 0.]\n"
          ]
        }
      ]
    },
    {
      "cell_type": "code",
      "source": [
        "X = torch.FloatTensor(Xstudents.T)\n",
        "Y = torch.FloatTensor(Ystudents)"
      ],
      "metadata": {
        "id": "Fz8lZriobZoX"
      },
      "execution_count": null,
      "outputs": []
    },
    {
      "cell_type": "code",
      "source": [
        "print(f'Diemension de y: {Y.shape}')"
      ],
      "metadata": {
        "colab": {
          "base_uri": "https://localhost:8080/"
        },
        "id": "rCIQ-M7ublY2",
        "outputId": "d5f7e5f7-37ea-437e-cf79-3670cccfa12e"
      },
      "execution_count": null,
      "outputs": [
        {
          "output_type": "stream",
          "name": "stdout",
          "text": [
            "Diemension de y: torch.Size([14])\n"
          ]
        }
      ]
    },
    {
      "cell_type": "code",
      "source": [
        "print(f'Diemension de X {X.shape}')"
      ],
      "metadata": {
        "colab": {
          "base_uri": "https://localhost:8080/"
        },
        "id": "8yqXLvg4b6uP",
        "outputId": "9a279647-832b-4d94-99d7-d3e3f9342069"
      },
      "execution_count": null,
      "outputs": [
        {
          "output_type": "stream",
          "name": "stdout",
          "text": [
            "Diemension de X torch.Size([14, 2])\n"
          ]
        }
      ]
    },
    {
      "cell_type": "code",
      "source": [
        "D_in = 2\n",
        "D_out = 1"
      ],
      "metadata": {
        "id": "o7j5dCM0b3Bv"
      },
      "execution_count": null,
      "outputs": []
    },
    {
      "cell_type": "code",
      "source": [
        "model = torch.nn.Sequential(\n",
        "    torch.nn.Linear(D_in,D_out),\n",
        "    torch.nn.Sigmoid()\n",
        ")"
      ],
      "metadata": {
        "id": "65cAz-iacGFW"
      },
      "execution_count": null,
      "outputs": []
    },
    {
      "cell_type": "code",
      "source": [
        "print(model)"
      ],
      "metadata": {
        "colab": {
          "base_uri": "https://localhost:8080/"
        },
        "id": "zeM-0W7pcSKH",
        "outputId": "e6054fbe-f3de-4afd-e92a-ac78138dd8cd"
      },
      "execution_count": null,
      "outputs": [
        {
          "output_type": "stream",
          "name": "stdout",
          "text": [
            "Sequential(\n",
            "  (0): Linear(in_features=2, out_features=1, bias=True)\n",
            "  (1): Sigmoid()\n",
            ")\n"
          ]
        }
      ]
    },
    {
      "cell_type": "code",
      "source": [
        "loss_fn = torch.nn.BCELoss()\n",
        "learning_rate = 1e-2\n",
        "optimize = torch.optim.SGD(model.parameters(), lr=learning_rate)"
      ],
      "metadata": {
        "id": "b95iQPf9cVx5"
      },
      "execution_count": null,
      "outputs": []
    },
    {
      "cell_type": "code",
      "source": [
        "prediction = model(X[0])"
      ],
      "metadata": {
        "id": "aQ5UaRr3egw5"
      },
      "execution_count": null,
      "outputs": []
    },
    {
      "cell_type": "code",
      "source": [
        "print(prediction)"
      ],
      "metadata": {
        "colab": {
          "base_uri": "https://localhost:8080/"
        },
        "id": "Za5zVM_KemCv",
        "outputId": "6dd25f7c-48f3-4543-87aa-d6c2ef221c15"
      },
      "execution_count": null,
      "outputs": [
        {
          "output_type": "stream",
          "name": "stdout",
          "text": [
            "tensor([0.1038], grad_fn=<SigmoidBackward0>)\n"
          ]
        }
      ]
    },
    {
      "cell_type": "code",
      "source": [
        "prediction = model(X[0:3])"
      ],
      "metadata": {
        "id": "aVPSh_SmenRu"
      },
      "execution_count": null,
      "outputs": []
    },
    {
      "cell_type": "code",
      "source": [
        "print(prediction)"
      ],
      "metadata": {
        "colab": {
          "base_uri": "https://localhost:8080/"
        },
        "id": "LjrVVT7MRcaS",
        "outputId": "05701baa-565b-4dbc-c858-e6b9eb0b0ef2"
      },
      "execution_count": null,
      "outputs": [
        {
          "output_type": "stream",
          "name": "stdout",
          "text": [
            "tensor([[0.1038],\n",
            "        [0.6570],\n",
            "        [0.7544]], grad_fn=<SigmoidBackward0>)\n"
          ]
        }
      ]
    },
    {
      "cell_type": "code",
      "source": [
        "prediction = model(X)\n",
        "print(prediction)"
      ],
      "metadata": {
        "colab": {
          "base_uri": "https://localhost:8080/"
        },
        "id": "oJzaOfhZRcsr",
        "outputId": "5bfc441f-288f-4d3f-848b-cf38009a2307"
      },
      "execution_count": null,
      "outputs": [
        {
          "output_type": "stream",
          "name": "stdout",
          "text": [
            "tensor([[0.1038],\n",
            "        [0.6570],\n",
            "        [0.7544],\n",
            "        [0.6846],\n",
            "        [0.9492],\n",
            "        [0.2369],\n",
            "        [0.7277],\n",
            "        [0.8848],\n",
            "        [0.3511],\n",
            "        [0.0232],\n",
            "        [0.1218],\n",
            "        [0.1425],\n",
            "        [0.9249],\n",
            "        [0.5987]], grad_fn=<SigmoidBackward0>)\n"
          ]
        }
      ]
    },
    {
      "cell_type": "code",
      "source": [
        "Ymodified = Y.view(-1,1)"
      ],
      "metadata": {
        "id": "l_Pw8RczSSAk"
      },
      "execution_count": null,
      "outputs": []
    },
    {
      "cell_type": "code",
      "source": [
        "print(f\"La premiere predicition: {prediction}, {prediction.shape}\")"
      ],
      "metadata": {
        "colab": {
          "base_uri": "https://localhost:8080/"
        },
        "id": "0yvVj79-SrE7",
        "outputId": "24ebde17-7dd0-41f6-dd11-f778279485fc"
      },
      "execution_count": null,
      "outputs": [
        {
          "output_type": "stream",
          "name": "stdout",
          "text": [
            "La premiere predicition: tensor([[0.1038],\n",
            "        [0.6570],\n",
            "        [0.7544],\n",
            "        [0.6846],\n",
            "        [0.9492],\n",
            "        [0.2369],\n",
            "        [0.7277],\n",
            "        [0.8848],\n",
            "        [0.3511],\n",
            "        [0.0232],\n",
            "        [0.1218],\n",
            "        [0.1425],\n",
            "        [0.9249],\n",
            "        [0.5987]], grad_fn=<SigmoidBackward0>), torch.Size([14, 1])\n"
          ]
        }
      ]
    },
    {
      "cell_type": "code",
      "source": [
        "print(f'le label: {Ymodified[0]}, {Ymodified[0].shape}')"
      ],
      "metadata": {
        "colab": {
          "base_uri": "https://localhost:8080/"
        },
        "id": "4xa9xwcNS7_k",
        "outputId": "93843a2a-4f29-4592-affb-983bb0368778"
      },
      "execution_count": null,
      "outputs": [
        {
          "output_type": "stream",
          "name": "stdout",
          "text": [
            "le label: tensor([1.]), torch.Size([1])\n"
          ]
        }
      ]
    },
    {
      "cell_type": "code",
      "source": [
        "prediction = model(X[0])"
      ],
      "metadata": {
        "id": "lScP0wb3Tj5N"
      },
      "execution_count": null,
      "outputs": []
    },
    {
      "cell_type": "code",
      "source": [
        "print(f'La valeur de la loss: , {loss_fn(prediction,Ymodified[0])}')"
      ],
      "metadata": {
        "colab": {
          "base_uri": "https://localhost:8080/"
        },
        "id": "1crqaYoGTH1s",
        "outputId": "dd218d1b-3fc0-4941-c051-6c8d4f9c7dc7"
      },
      "execution_count": null,
      "outputs": [
        {
          "output_type": "stream",
          "name": "stdout",
          "text": [
            "La valeur de la loss: , 2.265641927719116\n"
          ]
        }
      ]
    },
    {
      "cell_type": "code",
      "source": [
        "A = torch.from_numpy(np.array([[2.,3.],[1.,0.]]))\n",
        "A.requires_grad = True\n",
        "\n",
        "B = torch.from_numpy(np.array([[1.,2.], [3.,4.]]))\n",
        "B.requires_grad = True\n",
        "\n",
        "C = torch.matmul(A, B)\n",
        "\n",
        "d = torch.from_numpy(np.array([[3.], [2.]]))\n",
        "d.requires_grad = True\n",
        "\n",
        "E = C + d\n",
        "\n",
        "J = torch.sum(E)"
      ],
      "metadata": {
        "id": "i-LjWboPUEP7"
      },
      "execution_count": null,
      "outputs": []
    },
    {
      "cell_type": "code",
      "source": [
        "C"
      ],
      "metadata": {
        "colab": {
          "base_uri": "https://localhost:8080/"
        },
        "id": "Q8VQoIBLVDPj",
        "outputId": "11c2c39e-69b1-43f9-f025-537e83ed550d"
      },
      "execution_count": null,
      "outputs": [
        {
          "output_type": "execute_result",
          "data": {
            "text/plain": [
              "tensor([[11., 16.],\n",
              "        [ 1.,  2.]], dtype=torch.float64, grad_fn=<MmBackward0>)"
            ]
          },
          "metadata": {},
          "execution_count": 98
        }
      ]
    },
    {
      "cell_type": "code",
      "source": [],
      "metadata": {
        "id": "xF_OTJyqc9Ht"
      },
      "execution_count": null,
      "outputs": []
    },
    {
      "cell_type": "code",
      "source": [],
      "metadata": {
        "id": "KGuSeNg2c-qV"
      },
      "execution_count": null,
      "outputs": []
    },
    {
      "cell_type": "code",
      "source": [
        "  E"
      ],
      "metadata": {
        "colab": {
          "base_uri": "https://localhost:8080/"
        },
        "id": "6F5cr8w-XbOZ",
        "outputId": "40296087-8e91-4d19-ac42-0ace6128519e"
      },
      "execution_count": null,
      "outputs": [
        {
          "output_type": "execute_result",
          "data": {
            "text/plain": [
              "tensor([[14., 19.],\n",
              "        [ 3.,  4.]], dtype=torch.float64, grad_fn=<AddBackward0>)"
            ]
          },
          "metadata": {},
          "execution_count": 99
        }
      ]
    },
    {
      "cell_type": "code",
      "source": [
        "J.backward()"
      ],
      "metadata": {
        "id": "oDCCkjtzYuLG"
      },
      "execution_count": null,
      "outputs": []
    },
    {
      "cell_type": "code",
      "source": [
        "d.grad"
      ],
      "metadata": {
        "colab": {
          "base_uri": "https://localhost:8080/"
        },
        "id": "2iv7IUb0ZPy6",
        "outputId": "62a6c14f-53d8-4520-b3b1-3aecf26521e4"
      },
      "execution_count": null,
      "outputs": [
        {
          "output_type": "execute_result",
          "data": {
            "text/plain": [
              "tensor([[2.],\n",
              "        [2.]], dtype=torch.float64)"
            ]
          },
          "metadata": {},
          "execution_count": 108
        }
      ]
    },
    {
      "cell_type": "code",
      "source": [
        "print(A.grad)\n"
      ],
      "metadata": {
        "colab": {
          "base_uri": "https://localhost:8080/"
        },
        "id": "J8oiDywXZ4OB",
        "outputId": "da1b5416-45b0-4098-80dc-0aef397b0fb3"
      },
      "execution_count": null,
      "outputs": [
        {
          "output_type": "stream",
          "name": "stdout",
          "text": [
            "tensor([[3., 7.],\n",
            "        [3., 7.]], dtype=torch.float64)\n"
          ]
        }
      ]
    },
    {
      "cell_type": "code",
      "source": [
        "B.grad"
      ],
      "metadata": {
        "colab": {
          "base_uri": "https://localhost:8080/"
        },
        "id": "RTGsX3GVagpb",
        "outputId": "cec21b09-4d52-492b-e417-fc7a8c61d244"
      },
      "execution_count": null,
      "outputs": [
        {
          "output_type": "execute_result",
          "data": {
            "text/plain": [
              "tensor([[3., 3.],\n",
              "        [3., 3.]], dtype=torch.float64)"
            ]
          },
          "metadata": {},
          "execution_count": 76
        }
      ]
    },
    {
      "cell_type": "code",
      "source": [
        "# Réinitialiser les gradients\n",
        "A.grad = None\n",
        "B.grad = None\n",
        "d.grad = None\n",
        "\n",
        "# Rétropropagation pour calculer les gradients\n",
        "J.backward()\n",
        "\n",
        "# Afficher les gradients par rapport à A\n",
        "print(A.grad)\n"
      ],
      "metadata": {
        "colab": {
          "base_uri": "https://localhost:8080/",
          "height": 425
        },
        "id": "NQaCoBwbc_oF",
        "outputId": "af843a19-09dc-476a-ec97-fdcdd1724b75"
      },
      "execution_count": null,
      "outputs": [
        {
          "output_type": "error",
          "ename": "RuntimeError",
          "evalue": "ignored",
          "traceback": [
            "\u001b[0;31m---------------------------------------------------------------------------\u001b[0m",
            "\u001b[0;31mRuntimeError\u001b[0m                              Traceback (most recent call last)",
            "\u001b[0;32m<ipython-input-80-594ab07dc416>\u001b[0m in \u001b[0;36m<cell line: 7>\u001b[0;34m()\u001b[0m\n\u001b[1;32m      5\u001b[0m \u001b[0;34m\u001b[0m\u001b[0m\n\u001b[1;32m      6\u001b[0m \u001b[0;31m# Rétropropagation pour calculer les gradients\u001b[0m\u001b[0;34m\u001b[0m\u001b[0;34m\u001b[0m\u001b[0m\n\u001b[0;32m----> 7\u001b[0;31m \u001b[0mJ\u001b[0m\u001b[0;34m.\u001b[0m\u001b[0mbackward\u001b[0m\u001b[0;34m(\u001b[0m\u001b[0;34m)\u001b[0m\u001b[0;34m\u001b[0m\u001b[0;34m\u001b[0m\u001b[0m\n\u001b[0m\u001b[1;32m      8\u001b[0m \u001b[0;34m\u001b[0m\u001b[0m\n\u001b[1;32m      9\u001b[0m \u001b[0;31m# Afficher les gradients par rapport à A\u001b[0m\u001b[0;34m\u001b[0m\u001b[0;34m\u001b[0m\u001b[0m\n",
            "\u001b[0;32m/usr/local/lib/python3.10/dist-packages/torch/_tensor.py\u001b[0m in \u001b[0;36mbackward\u001b[0;34m(self, gradient, retain_graph, create_graph, inputs)\u001b[0m\n\u001b[1;32m    490\u001b[0m                 \u001b[0minputs\u001b[0m\u001b[0;34m=\u001b[0m\u001b[0minputs\u001b[0m\u001b[0;34m,\u001b[0m\u001b[0;34m\u001b[0m\u001b[0;34m\u001b[0m\u001b[0m\n\u001b[1;32m    491\u001b[0m             )\n\u001b[0;32m--> 492\u001b[0;31m         torch.autograd.backward(\n\u001b[0m\u001b[1;32m    493\u001b[0m             \u001b[0mself\u001b[0m\u001b[0;34m,\u001b[0m \u001b[0mgradient\u001b[0m\u001b[0;34m,\u001b[0m \u001b[0mretain_graph\u001b[0m\u001b[0;34m,\u001b[0m \u001b[0mcreate_graph\u001b[0m\u001b[0;34m,\u001b[0m \u001b[0minputs\u001b[0m\u001b[0;34m=\u001b[0m\u001b[0minputs\u001b[0m\u001b[0;34m\u001b[0m\u001b[0;34m\u001b[0m\u001b[0m\n\u001b[1;32m    494\u001b[0m         )\n",
            "\u001b[0;32m/usr/local/lib/python3.10/dist-packages/torch/autograd/__init__.py\u001b[0m in \u001b[0;36mbackward\u001b[0;34m(tensors, grad_tensors, retain_graph, create_graph, grad_variables, inputs)\u001b[0m\n\u001b[1;32m    249\u001b[0m     \u001b[0;31m# some Python versions print out the first line of a multi-line function\u001b[0m\u001b[0;34m\u001b[0m\u001b[0;34m\u001b[0m\u001b[0m\n\u001b[1;32m    250\u001b[0m     \u001b[0;31m# calls in the traceback and some print out the last line\u001b[0m\u001b[0;34m\u001b[0m\u001b[0;34m\u001b[0m\u001b[0m\n\u001b[0;32m--> 251\u001b[0;31m     Variable._execution_engine.run_backward(  # Calls into the C++ engine to run the backward pass\n\u001b[0m\u001b[1;32m    252\u001b[0m         \u001b[0mtensors\u001b[0m\u001b[0;34m,\u001b[0m\u001b[0;34m\u001b[0m\u001b[0;34m\u001b[0m\u001b[0m\n\u001b[1;32m    253\u001b[0m         \u001b[0mgrad_tensors_\u001b[0m\u001b[0;34m,\u001b[0m\u001b[0;34m\u001b[0m\u001b[0;34m\u001b[0m\u001b[0m\n",
            "\u001b[0;31mRuntimeError\u001b[0m: Trying to backward through the graph a second time (or directly access saved tensors after they have already been freed). Saved intermediate values of the graph are freed when you call .backward() or autograd.grad(). Specify retain_graph=True if you need to backward through the graph a second time or if you need to access saved tensors after calling backward."
          ]
        }
      ]
    },
    {
      "cell_type": "code",
      "source": [
        "Z = torch.from_numpy(np.array([[1.,2.], [3.,4.]]))\n",
        "Z.requires_grad = True\n",
        "X = torch.from_numpy(np.array([[3.,2.], [4.,2.]]))\n",
        "X.requires_grad = True\n",
        "\n",
        "v = torch.from_numpy(np.array([[0.,1.], [2.,1.]]))\n",
        "v.requires_grad = True\n",
        "Y = torch.matmul(Z, X)\n",
        "\n",
        "U = v+Y\n",
        "\n",
        "H = torch.sum(U)"
      ],
      "metadata": {
        "id": "HB7lj2y7dHhd"
      },
      "execution_count": null,
      "outputs": []
    },
    {
      "cell_type": "code",
      "source": [
        "print(Z.grad)"
      ],
      "metadata": {
        "colab": {
          "base_uri": "https://localhost:8080/"
        },
        "id": "y0pKOztEfOgF",
        "outputId": "0a323976-1d40-436e-a570-fa3444c114e6"
      },
      "execution_count": null,
      "outputs": [
        {
          "output_type": "stream",
          "name": "stdout",
          "text": [
            "tensor([[5., 6.],\n",
            "        [5., 6.]], dtype=torch.float64)\n"
          ]
        }
      ]
    },
    {
      "cell_type": "code",
      "source": [
        "H.backward()"
      ],
      "metadata": {
        "id": "zo8wOsImgWQ8"
      },
      "execution_count": null,
      "outputs": []
    },
    {
      "cell_type": "code",
      "source": [
        "x1 = torch.tensor(10., requires_grad=True)\n",
        "x2 = torch.tensor(20., requires_grad=True)\n",
        "x3 = x1*x2\n",
        "\n",
        "x3.backward()\n",
        "print(x1.grad)\n",
        "print(x2.grad)"
      ],
      "metadata": {
        "colab": {
          "base_uri": "https://localhost:8080/"
        },
        "id": "c-YYgmi1h-Dl",
        "outputId": "dc97bb95-60c7-4102-e81b-5f4610d3d27f"
      },
      "execution_count": null,
      "outputs": [
        {
          "output_type": "stream",
          "name": "stdout",
          "text": [
            "tensor(20.)\n",
            "tensor(10.)\n"
          ]
        }
      ]
    }
  ]
}